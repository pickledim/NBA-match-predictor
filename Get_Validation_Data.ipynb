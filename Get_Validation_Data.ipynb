{
 "cells": [
  {
   "cell_type": "markdown",
   "metadata": {},
   "source": [
    "# Get Validation Data for ML models\n",
    "\n",
    "## Import libs"
   ]
  },
  {
   "cell_type": "code",
   "execution_count": 1,
   "metadata": {},
   "outputs": [],
   "source": [
    "import os\n",
    "import pandas as pd\n",
    "import warnings\n",
    "warnings.filterwarnings('ignore')\n",
    "\n",
    "from src import algorithms, stats_scraper"
   ]
  },
  {
   "cell_type": "code",
   "execution_count": 2,
   "metadata": {},
   "outputs": [],
   "source": [
    "def get_validation_data(path):\n",
    "    \"\"\"\n",
    "    Gets the boxscore data from 2008 up to 2015\n",
    "    \"\"\"\n",
    "    \n",
    "    kwargs = {'DateFrom': '',\n",
    "              'DateTo': ''}\n",
    "\n",
    "    list_df = []\n",
    "    for i in range(8, 15):\n",
    "        kwargs['Season'] = f'20{i:02}-{i+1:02}'\n",
    "        print(f'Getting data from Season: {kwargs[\"Season\"]}')\n",
    "        output = os.path.join(path, f'teams_boxscore_trad_2k{i}_first_half.csv')\n",
    "        tmp_df = stats_scraper.web_scraper(output,training_dataset=True, **kwargs)\n",
    "        list_df.append(tmp_df)\n",
    "    data = pd.concat(list_df, axis=0, ignore_index=True)\n",
    "\n",
    "    return data"
   ]
  },
  {
   "cell_type": "markdown",
   "metadata": {},
   "source": [
    "## Data Pipeline\n"
   ]
  },
  {
   "cell_type": "code",
   "execution_count": 3,
   "metadata": {},
   "outputs": [
    {
     "name": "stdout",
     "output_type": "stream",
     "text": [
      "/Users/dimitrisglenis/Documents/NBA_predict_matches/NBA-mathc-predictor folder already exists.\n",
      "Getting data from Season: 2008-09\n",
      "Fetching Data\n",
      "Done\n",
      "Getting data from Season: 2009-10\n",
      "Fetching Data\n",
      "Done\n",
      "Getting data from Season: 2010-11\n",
      "Fetching Data\n",
      "Done\n",
      "Getting data from Season: 2011-12\n",
      "Fetching Data\n",
      "Done\n",
      "Getting data from Season: 2012-13\n",
      "Fetching Data\n",
      "Done\n",
      "Getting data from Season: 2013-14\n",
      "Fetching Data\n",
      "Done\n",
      "Getting data from Season: 2014-15\n",
      "Fetching Data\n",
      "Done\n"
     ]
    }
   ],
   "source": [
    "path = os.path.join(os.getcwd(),'Validation_data')\n",
    "algorithms.check_dir(path)\n",
    "\n",
    "data = get_validation_data(path)\n",
    "data = algorithms.pre_process_cols(data)\n",
    "data = algorithms.hollinger_formula(data)\n",
    "data = algorithms.concat_home_away_stats(data)\n",
    "data = algorithms.get_dummies(data)\n",
    "data = algorithms.feature_eng(data)\n",
    "data = algorithms.clean_data(data)"
   ]
  },
  {
   "cell_type": "markdown",
   "metadata": {},
   "source": [
    "## Save the data"
   ]
  },
  {
   "cell_type": "code",
   "execution_count": 4,
   "metadata": {},
   "outputs": [
    {
     "name": "stdout",
     "output_type": "stream",
     "text": [
      "/Users/dimitrisglenis/Documents/NBA_predict_matches/NBA-mathc-predictor/Validation_data folder already exists.\n"
     ]
    }
   ],
   "source": [
    "output = os.path.join(os.getcwd(),'Validation_data', 'validation_data_first_half_2008_2015.csv')\n",
    "algorithms.check_dir(output)\n",
    "\n",
    "data.to_csv(output)"
   ]
  }
 ],
 "metadata": {
  "kernelspec": {
   "display_name": "Python 3",
   "language": "python",
   "name": "python3"
  },
  "language_info": {
   "codemirror_mode": {
    "name": "ipython",
    "version": 3
   },
   "file_extension": ".py",
   "mimetype": "text/x-python",
   "name": "python",
   "nbconvert_exporter": "python",
   "pygments_lexer": "ipython3",
   "version": "3.8.5"
  }
 },
 "nbformat": 4,
 "nbformat_minor": 4
}
