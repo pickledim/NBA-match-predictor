{
 "cells": [
  {
   "cell_type": "code",
   "execution_count": 1,
   "metadata": {},
   "outputs": [],
   "source": [
    "import pandas as pd\n",
    "import numpy as np\n",
    "from src import Data_analysis_tools as Tools\n",
    "from sklearn.preprocessing import MinMaxScaler, StandardScaler\n",
    "from sklearn.model_selection import train_test_split\n",
    "from sklearn.decomposition import PCA"
   ]
  },
  {
   "cell_type": "code",
   "execution_count": 2,
   "metadata": {},
   "outputs": [],
   "source": [
    "features = Tools.load_pickle('./ml_models/features_for_prediction_new')\n",
    "\n",
    "data = pd.read_csv('validation_data_first_half_2015_2021.csv', index_col=0)"
   ]
  },
  {
   "cell_type": "markdown",
   "metadata": {},
   "source": [
    "# Pre processing"
   ]
  },
  {
   "cell_type": "code",
   "execution_count": 3,
   "metadata": {},
   "outputs": [
    {
     "name": "stdout",
     "output_type": "stream",
     "text": [
      "Initial dimensions: 171\n"
     ]
    }
   ],
   "source": [
    "traduction = {\n",
    "        'W': 1,\n",
    "        'L': 0\n",
    "        }\n",
    "\n",
    "data['W/L_Home'] = data['W/L_Home'].map(traduction)\n",
    "\n",
    "X = data[features]\n",
    "\n",
    "\n",
    "assert not(X.isnull().values.any()), 'Nan Values in data'\n",
    "\n",
    "case = np.isinf(X).values.sum()\n",
    "assert case is not None, 'Inf Values in data'\n",
    "\n",
    "X = np.array(X)\n",
    "y = np.array(data['W/L_Home'])\n",
    "print(f'Initial dimensions: {X.shape[1]}')\n",
    "# pca = PCA(n_components='mle')\n",
    "# X = pca.fit_transform(X)\n",
    "# print(f'Dimensions after PCA: {X.shape[1]}')\n",
    "\n",
    "n_inputs = X.shape[-1]\n"
   ]
  },
  {
   "cell_type": "code",
   "execution_count": 4,
   "metadata": {},
   "outputs": [],
   "source": [
    "X_train, X_test, y_train, y_test = train_test_split(X, y, shuffle=True, test_size=0.2, random_state=42)\n",
    "\n",
    "scaler = StandardScaler()\n",
    "X_train = scaler.fit_transform(X_train)\n",
    "# X_train = scaler.transform(X_train)\n",
    "X_test = scaler.transform(X_test)"
   ]
  },
  {
   "cell_type": "markdown",
   "metadata": {},
   "source": [
    "# DL Architectures"
   ]
  },
  {
   "cell_type": "code",
   "execution_count": 5,
   "metadata": {},
   "outputs": [
    {
     "name": "stdout",
     "output_type": "stream",
     "text": [
      "Model: \"sequential\"\n",
      "_________________________________________________________________\n",
      "Layer (type)                 Output Shape              Param #   \n",
      "=================================================================\n",
      "flatten (Flatten)            (None, 171)               0         \n",
      "_________________________________________________________________\n",
      "dense (Dense)                (None, 2056)              353632    \n",
      "_________________________________________________________________\n",
      "dropout (Dropout)            (None, 2056)              0         \n",
      "_________________________________________________________________\n",
      "dense_1 (Dense)              (None, 1)                 2057      \n",
      "=================================================================\n",
      "Total params: 355,689\n",
      "Trainable params: 355,689\n",
      "Non-trainable params: 0\n",
      "_________________________________________________________________\n"
     ]
    }
   ],
   "source": [
    "# from keras import models\n",
    "from keras import layers\n",
    "from keras import optimizers\n",
    "from keras import losses\n",
    "from keras import metrics\n",
    "from keras import models\n",
    "\n",
    "model = models.Sequential()\n",
    "model.add(layers.Flatten(input_shape=(X.shape[1],)))\n",
    "# model.add(layers.Dense(64, activation='relu'))\n",
    "# model.add(layers.Dropout(0.5))\n",
    "# model.add(layers.Dense(64, activation='relu'))\n",
    "# model.add(layers.Dense(16, activation='relu'))\n",
    "# model.add(layers.Dropout(0.5))\n",
    "# model.add(layers.Dense(16, activation='relu'))\n",
    "# model.add(layers.Dropout(0.7))\n",
    "model.add(layers.Dense(2056, activation='relu'))\n",
    "# model.add(layers.Dense(2056, activation='relu'))\n",
    "# model.add(layers.Dense(16, activation='relu'))\n",
    "# model.add(layers.Dense(16, activation='relu'))\n",
    "# model.add(layers.Dense(16, activation='relu'))\n",
    "# model.add(layers.Dense(16, activation='relu'))\n",
    "# model.add(layers.Dense(16, activation='relu'))\n",
    "# model.add(layers.Dense(64, activation='relu'))\n",
    "# model.add(layers.Dense(16, activation='relu'))\n",
    "# model.add(layers.Dense(4, activation='relu'))\n",
    "model.add(layers.Dropout(0.9))\n",
    "model.add(layers.Dense(1, activation='sigmoid'))\n",
    "model.summary()"
   ]
  },
  {
   "cell_type": "code",
   "execution_count": 6,
   "metadata": {},
   "outputs": [],
   "source": [
    "metric = 'acc'"
   ]
  },
  {
   "cell_type": "code",
   "execution_count": 7,
   "metadata": {},
   "outputs": [
    {
     "name": "stdout",
     "output_type": "stream",
     "text": [
      "Epoch 1/100\n",
      "177/177 [==============================] - 1s 3ms/step - loss: 0.6503 - acc: 0.6530 - val_loss: 0.5223 - val_acc: 0.7355\n",
      "Epoch 2/100\n",
      "177/177 [==============================] - 0s 3ms/step - loss: 0.5898 - acc: 0.7052 - val_loss: 0.5197 - val_acc: 0.7369\n",
      "Epoch 3/100\n",
      "177/177 [==============================] - 0s 3ms/step - loss: 0.5711 - acc: 0.7091 - val_loss: 0.5184 - val_acc: 0.7404\n",
      "Epoch 4/100\n",
      "177/177 [==============================] - 0s 3ms/step - loss: 0.5646 - acc: 0.7113 - val_loss: 0.5166 - val_acc: 0.7373\n",
      "Epoch 5/100\n",
      "177/177 [==============================] - 0s 3ms/step - loss: 0.5573 - acc: 0.7148 - val_loss: 0.5158 - val_acc: 0.7383\n",
      "Epoch 6/100\n",
      "177/177 [==============================] - 0s 3ms/step - loss: 0.5461 - acc: 0.7222 - val_loss: 0.5149 - val_acc: 0.7404\n",
      "Epoch 7/100\n",
      "177/177 [==============================] - 0s 3ms/step - loss: 0.5404 - acc: 0.7253 - val_loss: 0.5154 - val_acc: 0.7387\n",
      "Epoch 8/100\n",
      "177/177 [==============================] - 0s 3ms/step - loss: 0.5414 - acc: 0.7271 - val_loss: 0.5154 - val_acc: 0.7373\n",
      "Epoch 9/100\n",
      "177/177 [==============================] - 0s 3ms/step - loss: 0.5366 - acc: 0.7255 - val_loss: 0.5154 - val_acc: 0.7387\n",
      "Epoch 10/100\n",
      "177/177 [==============================] - 0s 3ms/step - loss: 0.5331 - acc: 0.7330 - val_loss: 0.5149 - val_acc: 0.7373\n",
      "Epoch 11/100\n",
      "177/177 [==============================] - 0s 3ms/step - loss: 0.5317 - acc: 0.7366 - val_loss: 0.5141 - val_acc: 0.7429\n",
      "Epoch 12/100\n",
      "177/177 [==============================] - 0s 3ms/step - loss: 0.5358 - acc: 0.7329 - val_loss: 0.5142 - val_acc: 0.7383\n",
      "Epoch 13/100\n",
      "177/177 [==============================] - 0s 3ms/step - loss: 0.5315 - acc: 0.7310 - val_loss: 0.5140 - val_acc: 0.7401\n",
      "Epoch 14/100\n",
      "177/177 [==============================] - 0s 3ms/step - loss: 0.5326 - acc: 0.7288 - val_loss: 0.5142 - val_acc: 0.7422\n",
      "Epoch 15/100\n",
      "177/177 [==============================] - 0s 3ms/step - loss: 0.5316 - acc: 0.7325 - val_loss: 0.5142 - val_acc: 0.7376\n",
      "Epoch 16/100\n",
      "177/177 [==============================] - 1s 3ms/step - loss: 0.5302 - acc: 0.7328 - val_loss: 0.5152 - val_acc: 0.7380\n",
      "Epoch 17/100\n",
      "177/177 [==============================] - 0s 3ms/step - loss: 0.5309 - acc: 0.7287 - val_loss: 0.5145 - val_acc: 0.7390\n",
      "Epoch 18/100\n",
      "177/177 [==============================] - 1s 3ms/step - loss: 0.5270 - acc: 0.7364 - val_loss: 0.5144 - val_acc: 0.7365\n",
      "Epoch 19/100\n",
      "177/177 [==============================] - 1s 3ms/step - loss: 0.5259 - acc: 0.7330 - val_loss: 0.5137 - val_acc: 0.7401\n",
      "Epoch 20/100\n",
      "177/177 [==============================] - 0s 3ms/step - loss: 0.5256 - acc: 0.7325 - val_loss: 0.5166 - val_acc: 0.7312\n",
      "Epoch 21/100\n",
      "177/177 [==============================] - 0s 3ms/step - loss: 0.5245 - acc: 0.7355 - val_loss: 0.5141 - val_acc: 0.7362\n",
      "Epoch 22/100\n",
      "177/177 [==============================] - 1s 3ms/step - loss: 0.5250 - acc: 0.7341 - val_loss: 0.5145 - val_acc: 0.7362\n",
      "Epoch 23/100\n",
      "177/177 [==============================] - 0s 3ms/step - loss: 0.5271 - acc: 0.7356 - val_loss: 0.5143 - val_acc: 0.7380\n",
      "Epoch 24/100\n",
      "177/177 [==============================] - 1s 3ms/step - loss: 0.5216 - acc: 0.7389 - val_loss: 0.5153 - val_acc: 0.7334\n",
      "Epoch 25/100\n",
      "177/177 [==============================] - 1s 3ms/step - loss: 0.5281 - acc: 0.7348 - val_loss: 0.5151 - val_acc: 0.7337\n",
      "Epoch 26/100\n",
      "177/177 [==============================] - 0s 3ms/step - loss: 0.5200 - acc: 0.7414 - val_loss: 0.5155 - val_acc: 0.7326\n",
      "Epoch 27/100\n",
      "177/177 [==============================] - 0s 3ms/step - loss: 0.5296 - acc: 0.7345 - val_loss: 0.5151 - val_acc: 0.7383\n",
      "Epoch 28/100\n",
      "177/177 [==============================] - 0s 3ms/step - loss: 0.5205 - acc: 0.7413 - val_loss: 0.5149 - val_acc: 0.7376\n",
      "Epoch 29/100\n",
      "177/177 [==============================] - 0s 3ms/step - loss: 0.5242 - acc: 0.7378 - val_loss: 0.5150 - val_acc: 0.7355\n",
      "Epoch 30/100\n",
      "177/177 [==============================] - 0s 3ms/step - loss: 0.5249 - acc: 0.7330 - val_loss: 0.5152 - val_acc: 0.7330\n",
      "Epoch 31/100\n",
      "177/177 [==============================] - 1s 3ms/step - loss: 0.5215 - acc: 0.7391 - val_loss: 0.5151 - val_acc: 0.7422\n",
      "Epoch 32/100\n",
      "177/177 [==============================] - 0s 3ms/step - loss: 0.5254 - acc: 0.7394 - val_loss: 0.5146 - val_acc: 0.7362\n",
      "Epoch 33/100\n",
      "177/177 [==============================] - 0s 3ms/step - loss: 0.5219 - acc: 0.7384 - val_loss: 0.5156 - val_acc: 0.7337\n",
      "Epoch 34/100\n",
      "177/177 [==============================] - 0s 3ms/step - loss: 0.5215 - acc: 0.7407 - val_loss: 0.5147 - val_acc: 0.7397\n",
      "Epoch 35/100\n",
      "177/177 [==============================] - 0s 3ms/step - loss: 0.5199 - acc: 0.7361 - val_loss: 0.5143 - val_acc: 0.7408\n",
      "Epoch 36/100\n",
      "177/177 [==============================] - 1s 3ms/step - loss: 0.5185 - acc: 0.7424 - val_loss: 0.5157 - val_acc: 0.7411\n",
      "Epoch 37/100\n",
      "177/177 [==============================] - 0s 3ms/step - loss: 0.5182 - acc: 0.7431 - val_loss: 0.5154 - val_acc: 0.7348\n",
      "Epoch 38/100\n",
      "177/177 [==============================] - 0s 3ms/step - loss: 0.5163 - acc: 0.7469 - val_loss: 0.5162 - val_acc: 0.7383\n",
      "Epoch 39/100\n",
      "177/177 [==============================] - 1s 3ms/step - loss: 0.5226 - acc: 0.7347 - val_loss: 0.5137 - val_acc: 0.7355\n",
      "Epoch 40/100\n",
      "177/177 [==============================] - 1s 3ms/step - loss: 0.5195 - acc: 0.7423 - val_loss: 0.5138 - val_acc: 0.7351\n",
      "Epoch 41/100\n",
      "177/177 [==============================] - 0s 3ms/step - loss: 0.5185 - acc: 0.7407 - val_loss: 0.5134 - val_acc: 0.7348\n",
      "Epoch 42/100\n",
      "177/177 [==============================] - 1s 3ms/step - loss: 0.5204 - acc: 0.7395 - val_loss: 0.5141 - val_acc: 0.7373\n",
      "Epoch 43/100\n",
      "177/177 [==============================] - 1s 3ms/step - loss: 0.5233 - acc: 0.7366 - val_loss: 0.5140 - val_acc: 0.7436\n",
      "Epoch 44/100\n",
      "177/177 [==============================] - 0s 3ms/step - loss: 0.5207 - acc: 0.7384 - val_loss: 0.5136 - val_acc: 0.7348\n",
      "Epoch 45/100\n",
      "177/177 [==============================] - 0s 3ms/step - loss: 0.5181 - acc: 0.7408 - val_loss: 0.5138 - val_acc: 0.7369\n",
      "Epoch 46/100\n",
      "177/177 [==============================] - 0s 2ms/step - loss: 0.5208 - acc: 0.7407 - val_loss: 0.5145 - val_acc: 0.7376\n",
      "Epoch 47/100\n",
      "177/177 [==============================] - 0s 2ms/step - loss: 0.5154 - acc: 0.7452 - val_loss: 0.5142 - val_acc: 0.7362\n",
      "Epoch 48/100\n",
      "177/177 [==============================] - 0s 3ms/step - loss: 0.5179 - acc: 0.7405 - val_loss: 0.5148 - val_acc: 0.7358\n",
      "Epoch 49/100\n",
      "177/177 [==============================] - 0s 2ms/step - loss: 0.5194 - acc: 0.7386 - val_loss: 0.5143 - val_acc: 0.7411\n",
      "Epoch 50/100\n",
      "177/177 [==============================] - 0s 2ms/step - loss: 0.5153 - acc: 0.7433 - val_loss: 0.5136 - val_acc: 0.7380\n",
      "Epoch 51/100\n",
      "177/177 [==============================] - 0s 2ms/step - loss: 0.5179 - acc: 0.7424 - val_loss: 0.5146 - val_acc: 0.7394\n",
      "Epoch 52/100\n",
      "177/177 [==============================] - 0s 2ms/step - loss: 0.5165 - acc: 0.7395 - val_loss: 0.5138 - val_acc: 0.7380\n",
      "Epoch 53/100\n",
      "177/177 [==============================] - 0s 2ms/step - loss: 0.5148 - acc: 0.7431 - val_loss: 0.5147 - val_acc: 0.7383\n",
      "Epoch 54/100\n",
      "177/177 [==============================] - 0s 3ms/step - loss: 0.5191 - acc: 0.7393 - val_loss: 0.5142 - val_acc: 0.7383\n",
      "Epoch 55/100\n",
      "177/177 [==============================] - 0s 2ms/step - loss: 0.5199 - acc: 0.7428 - val_loss: 0.5143 - val_acc: 0.7369\n",
      "Epoch 56/100\n",
      "177/177 [==============================] - 0s 2ms/step - loss: 0.5151 - acc: 0.7409 - val_loss: 0.5156 - val_acc: 0.7348\n",
      "Epoch 57/100\n",
      "177/177 [==============================] - 0s 2ms/step - loss: 0.5189 - acc: 0.7434 - val_loss: 0.5153 - val_acc: 0.7390\n",
      "Epoch 58/100\n",
      "177/177 [==============================] - 0s 2ms/step - loss: 0.5131 - acc: 0.7452 - val_loss: 0.5145 - val_acc: 0.7429\n",
      "Epoch 59/100\n",
      "177/177 [==============================] - 0s 3ms/step - loss: 0.5111 - acc: 0.7493 - val_loss: 0.5150 - val_acc: 0.7419\n",
      "Epoch 60/100\n",
      "177/177 [==============================] - 0s 2ms/step - loss: 0.5142 - acc: 0.7437 - val_loss: 0.5139 - val_acc: 0.7380\n",
      "Epoch 61/100\n",
      "177/177 [==============================] - 0s 2ms/step - loss: 0.5111 - acc: 0.7432 - val_loss: 0.5139 - val_acc: 0.7383\n",
      "Epoch 62/100\n"
     ]
    },
    {
     "name": "stdout",
     "output_type": "stream",
     "text": [
      "177/177 [==============================] - 0s 2ms/step - loss: 0.5124 - acc: 0.7441 - val_loss: 0.5145 - val_acc: 0.7408\n",
      "Epoch 63/100\n",
      "177/177 [==============================] - 0s 2ms/step - loss: 0.5141 - acc: 0.7420 - val_loss: 0.5146 - val_acc: 0.7373\n",
      "Epoch 64/100\n",
      "177/177 [==============================] - 0s 2ms/step - loss: 0.5157 - acc: 0.7437 - val_loss: 0.5140 - val_acc: 0.7383\n",
      "Epoch 65/100\n",
      "177/177 [==============================] - 0s 3ms/step - loss: 0.5106 - acc: 0.7448 - val_loss: 0.5144 - val_acc: 0.7387\n",
      "Epoch 66/100\n",
      "177/177 [==============================] - 0s 2ms/step - loss: 0.5121 - acc: 0.7465 - val_loss: 0.5150 - val_acc: 0.7355\n",
      "Epoch 67/100\n",
      "177/177 [==============================] - 0s 3ms/step - loss: 0.5118 - acc: 0.7461 - val_loss: 0.5139 - val_acc: 0.7387\n",
      "Epoch 68/100\n",
      "177/177 [==============================] - 0s 3ms/step - loss: 0.5115 - acc: 0.7437 - val_loss: 0.5146 - val_acc: 0.7411\n",
      "Epoch 69/100\n",
      "177/177 [==============================] - 0s 3ms/step - loss: 0.5109 - acc: 0.7414 - val_loss: 0.5145 - val_acc: 0.7397\n",
      "Epoch 70/100\n",
      "177/177 [==============================] - 1s 3ms/step - loss: 0.5170 - acc: 0.7406 - val_loss: 0.5145 - val_acc: 0.7390\n",
      "Epoch 71/100\n",
      "177/177 [==============================] - 0s 3ms/step - loss: 0.5091 - acc: 0.7456 - val_loss: 0.5142 - val_acc: 0.7387\n",
      "Epoch 72/100\n",
      "177/177 [==============================] - 0s 3ms/step - loss: 0.5134 - acc: 0.7455 - val_loss: 0.5145 - val_acc: 0.7380\n",
      "Epoch 73/100\n",
      "177/177 [==============================] - 0s 3ms/step - loss: 0.5102 - acc: 0.7453 - val_loss: 0.5142 - val_acc: 0.7355\n",
      "Epoch 74/100\n",
      "177/177 [==============================] - 0s 3ms/step - loss: 0.5091 - acc: 0.7498 - val_loss: 0.5144 - val_acc: 0.7380\n",
      "Epoch 75/100\n",
      "177/177 [==============================] - 0s 3ms/step - loss: 0.5080 - acc: 0.7488 - val_loss: 0.5147 - val_acc: 0.7369\n",
      "Epoch 76/100\n",
      "177/177 [==============================] - 0s 3ms/step - loss: 0.5108 - acc: 0.7458 - val_loss: 0.5149 - val_acc: 0.7383\n",
      "Epoch 77/100\n",
      "177/177 [==============================] - 0s 3ms/step - loss: 0.5103 - acc: 0.7438 - val_loss: 0.5156 - val_acc: 0.7351\n",
      "Epoch 78/100\n",
      "177/177 [==============================] - 0s 2ms/step - loss: 0.5135 - acc: 0.7469 - val_loss: 0.5137 - val_acc: 0.7397\n",
      "Epoch 79/100\n",
      "177/177 [==============================] - 0s 2ms/step - loss: 0.5096 - acc: 0.7485 - val_loss: 0.5149 - val_acc: 0.7362\n",
      "Epoch 80/100\n",
      "177/177 [==============================] - 0s 2ms/step - loss: 0.5096 - acc: 0.7430 - val_loss: 0.5137 - val_acc: 0.7411\n",
      "Epoch 81/100\n",
      "177/177 [==============================] - 0s 2ms/step - loss: 0.5116 - acc: 0.7429 - val_loss: 0.5144 - val_acc: 0.7397\n",
      "Epoch 82/100\n",
      "177/177 [==============================] - 0s 2ms/step - loss: 0.5102 - acc: 0.7452 - val_loss: 0.5147 - val_acc: 0.7369\n",
      "Epoch 83/100\n",
      "177/177 [==============================] - 0s 2ms/step - loss: 0.5081 - acc: 0.7426 - val_loss: 0.5168 - val_acc: 0.7433\n",
      "Epoch 84/100\n",
      "177/177 [==============================] - 0s 3ms/step - loss: 0.5144 - acc: 0.7412 - val_loss: 0.5151 - val_acc: 0.7355\n",
      "Epoch 85/100\n",
      "177/177 [==============================] - 0s 2ms/step - loss: 0.5109 - acc: 0.7469 - val_loss: 0.5152 - val_acc: 0.7380\n",
      "Epoch 86/100\n",
      "177/177 [==============================] - 0s 2ms/step - loss: 0.5080 - acc: 0.7464 - val_loss: 0.5154 - val_acc: 0.7362\n",
      "Epoch 87/100\n",
      "177/177 [==============================] - 0s 3ms/step - loss: 0.5098 - acc: 0.7431 - val_loss: 0.5138 - val_acc: 0.7376\n",
      "Epoch 88/100\n",
      "177/177 [==============================] - 1s 3ms/step - loss: 0.5091 - acc: 0.7443 - val_loss: 0.5154 - val_acc: 0.7365\n",
      "Epoch 89/100\n",
      "177/177 [==============================] - 1s 3ms/step - loss: 0.5115 - acc: 0.7457 - val_loss: 0.5141 - val_acc: 0.7426\n",
      "Epoch 90/100\n",
      "177/177 [==============================] - 1s 3ms/step - loss: 0.5071 - acc: 0.7498 - val_loss: 0.5146 - val_acc: 0.7401\n",
      "Epoch 91/100\n",
      "177/177 [==============================] - 1s 3ms/step - loss: 0.5060 - acc: 0.7492 - val_loss: 0.5148 - val_acc: 0.7376\n",
      "Epoch 92/100\n",
      "177/177 [==============================] - 1s 3ms/step - loss: 0.5101 - acc: 0.7493 - val_loss: 0.5160 - val_acc: 0.7344\n",
      "Epoch 93/100\n",
      "177/177 [==============================] - 1s 3ms/step - loss: 0.5093 - acc: 0.7437 - val_loss: 0.5161 - val_acc: 0.7408\n",
      "Epoch 94/100\n",
      "177/177 [==============================] - 0s 3ms/step - loss: 0.5040 - acc: 0.7482 - val_loss: 0.5175 - val_acc: 0.7436\n",
      "Epoch 95/100\n",
      "177/177 [==============================] - 0s 3ms/step - loss: 0.5099 - acc: 0.7496 - val_loss: 0.5153 - val_acc: 0.7380\n",
      "Epoch 96/100\n",
      "177/177 [==============================] - 0s 3ms/step - loss: 0.5030 - acc: 0.7518 - val_loss: 0.5156 - val_acc: 0.7362\n",
      "Epoch 97/100\n",
      "177/177 [==============================] - 0s 3ms/step - loss: 0.5063 - acc: 0.7461 - val_loss: 0.5152 - val_acc: 0.7404\n",
      "Epoch 98/100\n",
      "177/177 [==============================] - 0s 3ms/step - loss: 0.5041 - acc: 0.7500 - val_loss: 0.5156 - val_acc: 0.7376\n",
      "Epoch 99/100\n",
      "177/177 [==============================] - 0s 3ms/step - loss: 0.5094 - acc: 0.7471 - val_loss: 0.5158 - val_acc: 0.7355\n",
      "Epoch 100/100\n",
      "177/177 [==============================] - 0s 3ms/step - loss: 0.5070 - acc: 0.7509 - val_loss: 0.5166 - val_acc: 0.7334\n"
     ]
    }
   ],
   "source": [
    "model.compile(optimizer='sgd',\n",
    "              loss='binary_crossentropy',\n",
    "              metrics=[metric])\n",
    "\n",
    "history = model.fit(X_train,\n",
    "                    y_train,\n",
    "                    epochs=100,\n",
    "                    batch_size=64,\n",
    "                    validation_data=(X_test, y_test))"
   ]
  },
  {
   "cell_type": "code",
   "execution_count": 8,
   "metadata": {},
   "outputs": [
    {
     "name": "stdout",
     "output_type": "stream",
     "text": [
      "\n",
      "f1_score nn: 0.7332624867162594\n",
      "\n",
      "[[1036  403]\n",
      " [ 350 1035]]\n"
     ]
    }
   ],
   "source": [
    "from sklearn.metrics import confusion_matrix\n",
    "y_proba_nn = model.predict(X_test)\n",
    "cond = y_proba_nn >= 0.5\n",
    "y_pred_nn = np.where(cond,1,0)\n",
    "print(f'\\nf1_score nn: {Tools.f1_eval(y_pred_nn, y_test)}\\n')\n",
    "print(confusion_matrix(y_test, y_pred_nn))"
   ]
  },
  {
   "cell_type": "code",
   "execution_count": 9,
   "metadata": {},
   "outputs": [
    {
     "name": "stdout",
     "output_type": "stream",
     "text": [
      "dict_keys(['loss', 'acc', 'val_loss', 'val_acc'])\n"
     ]
    },
    {
     "data": {
      "image/png": "[encoded data removed]",
      "text/plain": [
       "<Figure size 432x288 with 1 Axes>"
      ]
     },
     "metadata": {
      "needs_background": "light"
     },
     "output_type": "display_data"
    }
   ],
   "source": [
    "import matplotlib.pyplot as plt\n",
    "history_dict = history.history\n",
    "print(history_dict.keys())\n",
    "loss_values = history_dict['loss']\n",
    "val_loss_values = history_dict['val_loss']\n",
    "acc = history_dict[metric.lower()]\n",
    "epochs = range(1, len(acc) + 1)\n",
    "plt.plot(epochs, loss_values, 'bo', label='Training loss')\n",
    "plt.plot(epochs, val_loss_values, 'b', label='Validation loss')\n",
    "\n",
    "plt.title('Training and validation loss')\n",
    "plt.xlabel('Epochs')\n",
    "plt.ylabel('Loss')\n",
    "plt.legend()\n",
    "plt.show()"
   ]
  },
  {
   "cell_type": "code",
   "execution_count": 10,
   "metadata": {},
   "outputs": [
    {
     "data": {
      "text/plain": [
       "<matplotlib.legend.Legend at 0x1527d0df0>"
      ]
     },
     "execution_count": 10,
     "metadata": {},
     "output_type": "execute_result"
    },
    {
     "data": {
      "image/png": "[encoded data removed]",
      "text/plain": [
       "<Figure size 432x288 with 1 Axes>"
      ]
     },
     "metadata": {
      "needs_background": "light"
     },
     "output_type": "display_data"
    }
   ],
   "source": [
    "plt.clf() \n",
    "acc_values = history_dict[metric.lower()] \n",
    "val_acc_values = history_dict[f'val_{metric.lower()}']\n",
    "plt.plot(epochs, acc_values, 'bo', label='Training acc')\n",
    "plt.plot(epochs, val_acc_values, 'b', label='Validation acc')\n",
    "plt.title('Training and validation accuracy')\n",
    "plt.xlabel('Epochs')\n",
    "plt.ylabel(f'{metric.lower()}')\n",
    "plt.legend()"
   ]
  },
  {
   "cell_type": "markdown",
   "metadata": {},
   "source": [
    "# Post Process"
   ]
  },
  {
   "cell_type": "code",
   "execution_count": 11,
   "metadata": {},
   "outputs": [],
   "source": [
    "validation_data = pd.read_csv('validation_data_first_half_2008_2015.csv', index_col=0)"
   ]
  },
  {
   "cell_type": "code",
   "execution_count": 12,
   "metadata": {},
   "outputs": [],
   "source": [
    "assert not(validation_data[features].isnull().values.any()), 'Nan Values in data'\n",
    "case = np.isinf(validation_data[features]).values.sum()\n",
    "assert case is not None, 'Inf Values in data'\n",
    "X_val = np.array(validation_data[features])\n",
    "# X_val = pca.transform(X_val)\n",
    "X_val = scaler.transform(X_val)\n",
    "y_val = validation_data['W/L_Home'].map(traduction)"
   ]
  },
  {
   "cell_type": "code",
   "execution_count": 13,
   "metadata": {},
   "outputs": [],
   "source": [
    "keras_proba = model.predict(X_val)\n",
    "validation_data['keras_proba'] = keras_proba\n",
    "cond = keras_proba >= 0.5\n",
    "keras_pred = np.where(cond,1,0)\n",
    "validation_data['keras_pred'] = keras_pred"
   ]
  },
  {
   "cell_type": "code",
   "execution_count": 14,
   "metadata": {},
   "outputs": [
    {
     "name": "stdout",
     "output_type": "stream",
     "text": [
      "\n",
      "f1_score nn: 0.729063465236902\n",
      "\n",
      "[[5834 2535]\n",
      " [2114 6255]]\n"
     ]
    }
   ],
   "source": [
    "print(f'\\nf1_score nn: {Tools.f1_eval(keras_pred, y_val)}\\n')\n",
    "print(confusion_matrix(y_val, keras_pred))"
   ]
  },
  {
   "cell_type": "code",
   "execution_count": 15,
   "metadata": {},
   "outputs": [],
   "source": [
    "# knn_proba = knn.predict_proba(X_val)\n",
    "# validation_data['knn_proba'] = knn_proba.max(axis=1)"
   ]
  },
  {
   "cell_type": "code",
   "execution_count": 16,
   "metadata": {},
   "outputs": [],
   "source": [
    "imap = {\n",
    "        1: 'W',\n",
    "        0: 'L'\n",
    "        }\n",
    "\n",
    "validation_data['keras_pred'] = validation_data['keras_pred'].map(imap)\n",
    "# validation_data['knn_pred'] = validation_data['knn_pred'].map(imap)"
   ]
  },
  {
   "cell_type": "code",
   "execution_count": 17,
   "metadata": {},
   "outputs": [],
   "source": [
    "validation_data = validation_data[['TEAM_Home', 'TEAM_Away', 'DATE_Home', 'keras_pred', 'keras_proba', 'W/L_Home']]\n"
   ]
  },
  {
   "cell_type": "code",
   "execution_count": 26,
   "metadata": {},
   "outputs": [
    {
     "data": {
      "text/html": [
       "<div>\n",
       "<style scoped>\n",
       "    .dataframe tbody tr th:only-of-type {\n",
       "        vertical-align: middle;\n",
       "    }\n",
       "\n",
       "    .dataframe tbody tr th {\n",
       "        vertical-align: top;\n",
       "    }\n",
       "\n",
       "    .dataframe thead th {\n",
       "        text-align: right;\n",
       "    }\n",
       "</style>\n",
       "<table border=\"1\" class=\"dataframe\">\n",
       "  <thead>\n",
       "    <tr style=\"text-align: right;\">\n",
       "      <th></th>\n",
       "      <th>TEAM_Home</th>\n",
       "      <th>TEAM_Away</th>\n",
       "      <th>DATE_Home</th>\n",
       "      <th>keras_pred</th>\n",
       "      <th>keras_proba</th>\n",
       "      <th>W/L_Home</th>\n",
       "    </tr>\n",
       "  </thead>\n",
       "  <tbody>\n",
       "    <tr>\n",
       "      <th>0</th>\n",
       "      <td>ORL</td>\n",
       "      <td>MIN</td>\n",
       "      <td>01/01/2010</td>\n",
       "      <td>W</td>\n",
       "      <td>0.746976</td>\n",
       "      <td>W</td>\n",
       "    </tr>\n",
       "    <tr>\n",
       "      <th>1</th>\n",
       "      <td>ATL</td>\n",
       "      <td>NYK</td>\n",
       "      <td>01/01/2010</td>\n",
       "      <td>W</td>\n",
       "      <td>0.701113</td>\n",
       "      <td>L</td>\n",
       "    </tr>\n",
       "    <tr>\n",
       "      <th>4</th>\n",
       "      <td>SAC</td>\n",
       "      <td>LAL</td>\n",
       "      <td>01/01/2010</td>\n",
       "      <td>W</td>\n",
       "      <td>0.833547</td>\n",
       "      <td>L</td>\n",
       "    </tr>\n",
       "    <tr>\n",
       "      <th>6</th>\n",
       "      <td>SAS</td>\n",
       "      <td>OKC</td>\n",
       "      <td>01/01/2011</td>\n",
       "      <td>W</td>\n",
       "      <td>0.899240</td>\n",
       "      <td>W</td>\n",
       "    </tr>\n",
       "    <tr>\n",
       "      <th>9</th>\n",
       "      <td>UTA</td>\n",
       "      <td>MEM</td>\n",
       "      <td>01/01/2011</td>\n",
       "      <td>W</td>\n",
       "      <td>0.895594</td>\n",
       "      <td>W</td>\n",
       "    </tr>\n",
       "    <tr>\n",
       "      <th>...</th>\n",
       "      <td>...</td>\n",
       "      <td>...</td>\n",
       "      <td>...</td>\n",
       "      <td>...</td>\n",
       "      <td>...</td>\n",
       "      <td>...</td>\n",
       "    </tr>\n",
       "    <tr>\n",
       "      <th>16729</th>\n",
       "      <td>OKC</td>\n",
       "      <td>PHX</td>\n",
       "      <td>12/31/2014</td>\n",
       "      <td>W</td>\n",
       "      <td>0.839262</td>\n",
       "      <td>W</td>\n",
       "    </tr>\n",
       "    <tr>\n",
       "      <th>16730</th>\n",
       "      <td>MIA</td>\n",
       "      <td>IND</td>\n",
       "      <td>12/31/2014</td>\n",
       "      <td>W</td>\n",
       "      <td>0.636956</td>\n",
       "      <td>L</td>\n",
       "    </tr>\n",
       "    <tr>\n",
       "      <th>16731</th>\n",
       "      <td>LAC</td>\n",
       "      <td>NYK</td>\n",
       "      <td>12/31/2014</td>\n",
       "      <td>W</td>\n",
       "      <td>0.937058</td>\n",
       "      <td>W</td>\n",
       "    </tr>\n",
       "    <tr>\n",
       "      <th>16732</th>\n",
       "      <td>SAS</td>\n",
       "      <td>NOP</td>\n",
       "      <td>12/31/2014</td>\n",
       "      <td>W</td>\n",
       "      <td>0.936978</td>\n",
       "      <td>W</td>\n",
       "    </tr>\n",
       "    <tr>\n",
       "      <th>16733</th>\n",
       "      <td>BOS</td>\n",
       "      <td>SAC</td>\n",
       "      <td>12/31/2014</td>\n",
       "      <td>W</td>\n",
       "      <td>0.909087</td>\n",
       "      <td>W</td>\n",
       "    </tr>\n",
       "  </tbody>\n",
       "</table>\n",
       "<p>8790 rows × 6 columns</p>\n",
       "</div>"
      ],
      "text/plain": [
       "      TEAM_Home TEAM_Away   DATE_Home keras_pred  keras_proba W/L_Home\n",
       "0           ORL       MIN  01/01/2010          W     0.746976        W\n",
       "1           ATL       NYK  01/01/2010          W     0.701113        L\n",
       "4           SAC       LAL  01/01/2010          W     0.833547        L\n",
       "6           SAS       OKC  01/01/2011          W     0.899240        W\n",
       "9           UTA       MEM  01/01/2011          W     0.895594        W\n",
       "...         ...       ...         ...        ...          ...      ...\n",
       "16729       OKC       PHX  12/31/2014          W     0.839262        W\n",
       "16730       MIA       IND  12/31/2014          W     0.636956        L\n",
       "16731       LAC       NYK  12/31/2014          W     0.937058        W\n",
       "16732       SAS       NOP  12/31/2014          W     0.936978        W\n",
       "16733       BOS       SAC  12/31/2014          W     0.909087        W\n",
       "\n",
       "[8790 rows x 6 columns]"
      ]
     },
     "execution_count": 26,
     "metadata": {},
     "output_type": "execute_result"
    }
   ],
   "source": [
    "mask = (validation_data['keras_pred'] == 'W') \n",
    "pp1 = validation_data[mask]\n",
    "pp1"
   ]
  },
  {
   "cell_type": "code",
   "execution_count": 27,
   "metadata": {},
   "outputs": [
    {
     "name": "stderr",
     "output_type": "stream",
     "text": [
      "<ipython-input-27-ad71cefb36a0>:2: UserWarning:\n",
      "\n",
      "Boolean Series key will be reindexed to match DataFrame index.\n",
      "\n"
     ]
    },
    {
     "data": {
      "text/html": [
       "<div>\n",
       "<style scoped>\n",
       "    .dataframe tbody tr th:only-of-type {\n",
       "        vertical-align: middle;\n",
       "    }\n",
       "\n",
       "    .dataframe tbody tr th {\n",
       "        vertical-align: top;\n",
       "    }\n",
       "\n",
       "    .dataframe thead th {\n",
       "        text-align: right;\n",
       "    }\n",
       "</style>\n",
       "<table border=\"1\" class=\"dataframe\">\n",
       "  <thead>\n",
       "    <tr style=\"text-align: right;\">\n",
       "      <th></th>\n",
       "      <th>TEAM_Home</th>\n",
       "      <th>TEAM_Away</th>\n",
       "      <th>DATE_Home</th>\n",
       "      <th>keras_pred</th>\n",
       "      <th>keras_proba</th>\n",
       "      <th>W/L_Home</th>\n",
       "    </tr>\n",
       "  </thead>\n",
       "  <tbody>\n",
       "    <tr>\n",
       "      <th>0</th>\n",
       "      <td>ORL</td>\n",
       "      <td>MIN</td>\n",
       "      <td>01/01/2010</td>\n",
       "      <td>W</td>\n",
       "      <td>0.746976</td>\n",
       "      <td>W</td>\n",
       "    </tr>\n",
       "    <tr>\n",
       "      <th>6</th>\n",
       "      <td>SAS</td>\n",
       "      <td>OKC</td>\n",
       "      <td>01/01/2011</td>\n",
       "      <td>W</td>\n",
       "      <td>0.899240</td>\n",
       "      <td>W</td>\n",
       "    </tr>\n",
       "    <tr>\n",
       "      <th>9</th>\n",
       "      <td>UTA</td>\n",
       "      <td>MEM</td>\n",
       "      <td>01/01/2011</td>\n",
       "      <td>W</td>\n",
       "      <td>0.895594</td>\n",
       "      <td>W</td>\n",
       "    </tr>\n",
       "    <tr>\n",
       "      <th>11</th>\n",
       "      <td>DEN</td>\n",
       "      <td>SAC</td>\n",
       "      <td>01/01/2011</td>\n",
       "      <td>W</td>\n",
       "      <td>0.913455</td>\n",
       "      <td>W</td>\n",
       "    </tr>\n",
       "    <tr>\n",
       "      <th>14</th>\n",
       "      <td>MIL</td>\n",
       "      <td>DAL</td>\n",
       "      <td>01/01/2011</td>\n",
       "      <td>W</td>\n",
       "      <td>0.808182</td>\n",
       "      <td>W</td>\n",
       "    </tr>\n",
       "    <tr>\n",
       "      <th>...</th>\n",
       "      <td>...</td>\n",
       "      <td>...</td>\n",
       "      <td>...</td>\n",
       "      <td>...</td>\n",
       "      <td>...</td>\n",
       "      <td>...</td>\n",
       "    </tr>\n",
       "    <tr>\n",
       "      <th>16728</th>\n",
       "      <td>MIL</td>\n",
       "      <td>CLE</td>\n",
       "      <td>12/31/2014</td>\n",
       "      <td>W</td>\n",
       "      <td>0.717767</td>\n",
       "      <td>W</td>\n",
       "    </tr>\n",
       "    <tr>\n",
       "      <th>16729</th>\n",
       "      <td>OKC</td>\n",
       "      <td>PHX</td>\n",
       "      <td>12/31/2014</td>\n",
       "      <td>W</td>\n",
       "      <td>0.839262</td>\n",
       "      <td>W</td>\n",
       "    </tr>\n",
       "    <tr>\n",
       "      <th>16731</th>\n",
       "      <td>LAC</td>\n",
       "      <td>NYK</td>\n",
       "      <td>12/31/2014</td>\n",
       "      <td>W</td>\n",
       "      <td>0.937058</td>\n",
       "      <td>W</td>\n",
       "    </tr>\n",
       "    <tr>\n",
       "      <th>16732</th>\n",
       "      <td>SAS</td>\n",
       "      <td>NOP</td>\n",
       "      <td>12/31/2014</td>\n",
       "      <td>W</td>\n",
       "      <td>0.936978</td>\n",
       "      <td>W</td>\n",
       "    </tr>\n",
       "    <tr>\n",
       "      <th>16733</th>\n",
       "      <td>BOS</td>\n",
       "      <td>SAC</td>\n",
       "      <td>12/31/2014</td>\n",
       "      <td>W</td>\n",
       "      <td>0.909087</td>\n",
       "      <td>W</td>\n",
       "    </tr>\n",
       "  </tbody>\n",
       "</table>\n",
       "<p>6255 rows × 6 columns</p>\n",
       "</div>"
      ],
      "text/plain": [
       "      TEAM_Home TEAM_Away   DATE_Home keras_pred  keras_proba W/L_Home\n",
       "0           ORL       MIN  01/01/2010          W     0.746976        W\n",
       "6           SAS       OKC  01/01/2011          W     0.899240        W\n",
       "9           UTA       MEM  01/01/2011          W     0.895594        W\n",
       "11          DEN       SAC  01/01/2011          W     0.913455        W\n",
       "14          MIL       DAL  01/01/2011          W     0.808182        W\n",
       "...         ...       ...         ...        ...          ...      ...\n",
       "16728       MIL       CLE  12/31/2014          W     0.717767        W\n",
       "16729       OKC       PHX  12/31/2014          W     0.839262        W\n",
       "16731       LAC       NYK  12/31/2014          W     0.937058        W\n",
       "16732       SAS       NOP  12/31/2014          W     0.936978        W\n",
       "16733       BOS       SAC  12/31/2014          W     0.909087        W\n",
       "\n",
       "[6255 rows x 6 columns]"
      ]
     },
     "execution_count": 27,
     "metadata": {},
     "output_type": "execute_result"
    }
   ],
   "source": [
    "mask = (validation_data['keras_pred'] == validation_data['W/L_Home'])\n",
    "pp2 = pp1[mask]\n",
    "pp2"
   ]
  },
  {
   "cell_type": "code",
   "execution_count": 28,
   "metadata": {},
   "outputs": [
    {
     "name": "stderr",
     "output_type": "stream",
     "text": [
      "<ipython-input-28-1b62ca79725c>:21: SettingWithCopyWarning:\n",
      "\n",
      "\n",
      "A value is trying to be set on a copy of a slice from a DataFrame.\n",
      "Try using .loc[row_indexer,col_indexer] = value instead\n",
      "\n",
      "See the caveats in the documentation: https://pandas.pydata.org/pandas-docs/stable/user_guide/indexing.html#returning-a-view-versus-a-copy\n",
      "\n"
     ]
    },
    {
     "name": "stdout",
     "output_type": "stream",
     "text": [
      "Cluster  8\n",
      "Total matches: 79\n",
      "Lost matches: 0\n",
      "Cluster  20\n",
      "Total matches: 45\n",
      "Lost matches: 0\n",
      "Cluster  52\n",
      "Total matches: 71\n",
      "Lost matches: 0\n",
      "Cluster  67\n",
      "Total matches: 63\n",
      "Lost matches: 0\n",
      "Cluster  83\n",
      "Total matches: 66\n",
      "Lost matches: 0\n",
      "Cluster  88\n",
      "Total matches: 71\n",
      "Lost matches: 0\n",
      "Cluster  93\n",
      "Total matches: 40\n",
      "Lost matches: 0\n"
     ]
    }
   ],
   "source": [
    "from sklearn.cluster import KMeans\n",
    "def print_data(data,model_prob):\n",
    "    print('Cluster ',data[\"clusters\"].unique()[0])\n",
    "    print(data[model_prob].values.min())\n",
    "    print(data[model_prob].values.max()) \n",
    "    \n",
    "def get_accuracy(data, model_pred):\n",
    "    mask = data[model_pred] == data['W/L_Home']\n",
    "    data2 = data[mask]\n",
    "    accuracy = data2.shape[0]/data.shape[0]\n",
    "    data['Accuracy'] = accuracy\n",
    "    data['n_matches'] = data.shape[0]\n",
    "    if accuracy >= 1:\n",
    "        print('Cluster ',data[\"clusters\"].unique()[0])\n",
    "        print (f'Total matches: {data.shape[0]}')\n",
    "        print (f'Lost matches: {data.shape[0]-data2.shape[0]}')\n",
    "    return data\n",
    "  \n",
    "X = np.array(pp1['keras_proba']).reshape(-1, 1)\n",
    "kmeans= KMeans(n_clusters=100, random_state=0)\n",
    "pp1['clusters'] = kmeans.fit_predict(X)\n",
    "\n",
    "pp1 = pp1.groupby(['clusters']).apply(get_accuracy, 'keras_pred')  \n",
    "pp1.sort_values(by=['Accuracy'], inplace=True)"
   ]
  },
  {
   "cell_type": "code",
   "execution_count": 29,
   "metadata": {},
   "outputs": [
    {
     "data": {
      "application/vnd.plotly.v1+json": {
       "config": {
        "plotlyServerURL": "https://plot.ly"
       },
       "data": [
        {
         "alignmentgroup": "True",
         "hovertemplate": "clusters=%{x}<br>Accuracy=%{y}<extra></extra>",
         "legendgroup": "",
         "marker": {
          "color": "#636efa",
          "pattern": {
           "shape": ""
          }
         },
         "name": "",
         "offsetgroup": "",
         "orientation": "v",
         "showlegend": false,
         "textposition": "auto",
         "type": "bar",
         "x": [
          14,
          95,
          61,
          12,
          43,
          80,
          89,
          63,
          81,
          56,
          79,
          37,
          57,
          70,
          22,
          50,
          66,
          78,
          36,
          2,
          5,
          6,
          31,
          33,
          15,
          64,
          71,
          32,
          65,
          47,
          62,
          99,
          91,
          27,
          9,
          76,
          86,
          58,
          77,
          49,
          75,
          74,
          38,
          34,
          19,
          82,
          7,
          18,
          72,
          35,
          13,
          3,
          0,
          55,
          53,
          24,
          10,
          21,
          29,
          26,
          85,
          16,
          48,
          45,
          41,
          98,
          60,
          46,
          28,
          97,
          96,
          51,
          73,
          4,
          54,
          42,
          94,
          87,
          68,
          1,
          44,
          17,
          90,
          84,
          25,
          30,
          92,
          39,
          11,
          69,
          23,
          59,
          40,
          88,
          52,
          20,
          8,
          93,
          83,
          67
         ],
         "xaxis": "x",
         "y": [
          0.3595505617977528,
          0.4225352112676056,
          0.47058823529411764,
          0.4722222222222222,
          0.4827586206896552,
          0.4875,
          0.4888888888888889,
          0.5048543689320388,
          0.5053763440860215,
          0.5061728395061729,
          0.5066666666666667,
          0.5111111111111111,
          0.5128205128205128,
          0.5138888888888888,
          0.5221238938053098,
          0.5324675324675324,
          0.5327102803738317,
          0.5393258426966292,
          0.5490196078431373,
          0.5571428571428572,
          0.5619047619047619,
          0.5656565656565656,
          0.5675675675675675,
          0.5806451612903226,
          0.5816326530612245,
          0.5921052631578947,
          0.6,
          0.6146788990825688,
          0.6146788990825688,
          0.6222222222222222,
          0.6262626262626263,
          0.6266666666666667,
          0.632183908045977,
          0.6385542168674698,
          0.64,
          0.6455696202531646,
          0.6458333333333334,
          0.6568627450980392,
          0.6588235294117647,
          0.6629213483146067,
          0.6629213483146067,
          0.6666666666666666,
          0.6702127659574468,
          0.6702127659574468,
          0.6705882352941176,
          0.673469387755102,
          0.6736842105263158,
          0.6764705882352942,
          0.6914893617021277,
          0.7142857142857143,
          0.7169811320754716,
          0.7227722772277227,
          0.7238095238095238,
          0.728,
          0.7386363636363636,
          0.74,
          0.7419354838709677,
          0.7464788732394366,
          0.7555555555555555,
          0.7555555555555555,
          0.7582417582417582,
          0.776595744680851,
          0.7798165137614679,
          0.7875,
          0.7909090909090909,
          0.8117647058823529,
          0.8137254901960784,
          0.8152173913043478,
          0.8152173913043478,
          0.8222222222222222,
          0.8295454545454546,
          0.8313253012048193,
          0.8367346938775511,
          0.8378378378378378,
          0.839622641509434,
          0.8409090909090909,
          0.8433734939759037,
          0.8674698795180723,
          0.8809523809523809,
          0.8888888888888888,
          0.8936170212765957,
          0.8952380952380953,
          0.896551724137931,
          0.8985507246376812,
          0.9036144578313253,
          0.9146341463414634,
          0.9166666666666666,
          0.9239130434782609,
          0.9306930693069307,
          0.9387755102040817,
          0.9431818181818182,
          0.9555555555555556,
          0.9682539682539683,
          1,
          1,
          1,
          1,
          1,
          1,
          1
         ],
         "yaxis": "y"
        }
       ],
       "layout": {
        "barmode": "relative",
        "legend": {
         "tracegroupgap": 0
        },
        "margin": {
         "t": 60
        },
        "template": {
         "data": {
          "bar": [
           {
            "error_x": {
             "color": "#2a3f5f"
            },
            "error_y": {
             "color": "#2a3f5f"
            },
            "marker": {
             "line": {
              "color": "#E5ECF6",
              "width": 0.5
             },
             "pattern": {
              "fillmode": "overlay",
              "size": 10,
              "solidity": 0.2
             }
            },
            "type": "bar"
           }
          ],
          "barpolar": [
           {
            "marker": {
             "line": {
              "color": "#E5ECF6",
              "width": 0.5
             },
             "pattern": {
              "fillmode": "overlay",
              "size": 10,
              "solidity": 0.2
             }
            },
            "type": "barpolar"
           }
          ],
          "carpet": [
           {
            "aaxis": {
             "endlinecolor": "#2a3f5f",
             "gridcolor": "white",
             "linecolor": "white",
             "minorgridcolor": "white",
             "startlinecolor": "#2a3f5f"
            },
            "baxis": {
             "endlinecolor": "#2a3f5f",
             "gridcolor": "white",
             "linecolor": "white",
             "minorgridcolor": "white",
             "startlinecolor": "#2a3f5f"
            },
            "type": "carpet"
           }
          ],
          "choropleth": [
           {
            "colorbar": {
             "outlinewidth": 0,
             "ticks": ""
            },
            "type": "choropleth"
           }
          ],
          "contour": [
           {
            "colorbar": {
             "outlinewidth": 0,
             "ticks": ""
            },
            "colorscale": [
             [
              0,
              "#0d0887"
             ],
             [
              0.1111111111111111,
              "#46039f"
             ],
             [
              0.2222222222222222,
              "#7201a8"
             ],
             [
              0.3333333333333333,
              "#9c179e"
             ],
             [
              0.4444444444444444,
              "#bd3786"
             ],
             [
              0.5555555555555556,
              "#d8576b"
             ],
             [
              0.6666666666666666,
              "#ed7953"
             ],
             [
              0.7777777777777778,
              "#fb9f3a"
             ],
             [
              0.8888888888888888,
              "#fdca26"
             ],
             [
              1,
              "#f0f921"
             ]
            ],
            "type": "contour"
           }
          ],
          "contourcarpet": [
           {
            "colorbar": {
             "outlinewidth": 0,
             "ticks": ""
            },
            "type": "contourcarpet"
           }
          ],
          "heatmap": [
           {
            "colorbar": {
             "outlinewidth": 0,
             "ticks": ""
            },
            "colorscale": [
             [
              0,
              "#0d0887"
             ],
             [
              0.1111111111111111,
              "#46039f"
             ],
             [
              0.2222222222222222,
              "#7201a8"
             ],
             [
              0.3333333333333333,
              "#9c179e"
             ],
             [
              0.4444444444444444,
              "#bd3786"
             ],
             [
              0.5555555555555556,
              "#d8576b"
             ],
             [
              0.6666666666666666,
              "#ed7953"
             ],
             [
              0.7777777777777778,
              "#fb9f3a"
             ],
             [
              0.8888888888888888,
              "#fdca26"
             ],
             [
              1,
              "#f0f921"
             ]
            ],
            "type": "heatmap"
           }
          ],
          "heatmapgl": [
           {
            "colorbar": {
             "outlinewidth": 0,
             "ticks": ""
            },
            "colorscale": [
             [
              0,
              "#0d0887"
             ],
             [
              0.1111111111111111,
              "#46039f"
             ],
             [
              0.2222222222222222,
              "#7201a8"
             ],
             [
              0.3333333333333333,
              "#9c179e"
             ],
             [
              0.4444444444444444,
              "#bd3786"
             ],
             [
              0.5555555555555556,
              "#d8576b"
             ],
             [
              0.6666666666666666,
              "#ed7953"
             ],
             [
              0.7777777777777778,
              "#fb9f3a"
             ],
             [
              0.8888888888888888,
              "#fdca26"
             ],
             [
              1,
              "#f0f921"
             ]
            ],
            "type": "heatmapgl"
           }
          ],
          "histogram": [
           {
            "marker": {
             "pattern": {
              "fillmode": "overlay",
              "size": 10,
              "solidity": 0.2
             }
            },
            "type": "histogram"
           }
          ],
          "histogram2d": [
           {
            "colorbar": {
             "outlinewidth": 0,
             "ticks": ""
            },
            "colorscale": [
             [
              0,
              "#0d0887"
             ],
             [
              0.1111111111111111,
              "#46039f"
             ],
             [
              0.2222222222222222,
              "#7201a8"
             ],
             [
              0.3333333333333333,
              "#9c179e"
             ],
             [
              0.4444444444444444,
              "#bd3786"
             ],
             [
              0.5555555555555556,
              "#d8576b"
             ],
             [
              0.6666666666666666,
              "#ed7953"
             ],
             [
              0.7777777777777778,
              "#fb9f3a"
             ],
             [
              0.8888888888888888,
              "#fdca26"
             ],
             [
              1,
              "#f0f921"
             ]
            ],
            "type": "histogram2d"
           }
          ],
          "histogram2dcontour": [
           {
            "colorbar": {
             "outlinewidth": 0,
             "ticks": ""
            },
            "colorscale": [
             [
              0,
              "#0d0887"
             ],
             [
              0.1111111111111111,
              "#46039f"
             ],
             [
              0.2222222222222222,
              "#7201a8"
             ],
             [
              0.3333333333333333,
              "#9c179e"
             ],
             [
              0.4444444444444444,
              "#bd3786"
             ],
             [
              0.5555555555555556,
              "#d8576b"
             ],
             [
              0.6666666666666666,
              "#ed7953"
             ],
             [
              0.7777777777777778,
              "#fb9f3a"
             ],
             [
              0.8888888888888888,
              "#fdca26"
             ],
             [
              1,
              "#f0f921"
             ]
            ],
            "type": "histogram2dcontour"
           }
          ],
          "mesh3d": [
           {
            "colorbar": {
             "outlinewidth": 0,
             "ticks": ""
            },
            "type": "mesh3d"
           }
          ],
          "parcoords": [
           {
            "line": {
             "colorbar": {
              "outlinewidth": 0,
              "ticks": ""
             }
            },
            "type": "parcoords"
           }
          ],
          "pie": [
           {
            "automargin": true,
            "type": "pie"
           }
          ],
          "scatter": [
           {
            "marker": {
             "colorbar": {
              "outlinewidth": 0,
              "ticks": ""
             }
            },
            "type": "scatter"
           }
          ],
          "scatter3d": [
           {
            "line": {
             "colorbar": {
              "outlinewidth": 0,
              "ticks": ""
             }
            },
            "marker": {
             "colorbar": {
              "outlinewidth": 0,
              "ticks": ""
             }
            },
            "type": "scatter3d"
           }
          ],
          "scattercarpet": [
           {
            "marker": {
             "colorbar": {
              "outlinewidth": 0,
              "ticks": ""
             }
            },
            "type": "scattercarpet"
           }
          ],
          "scattergeo": [
           {
            "marker": {
             "colorbar": {
              "outlinewidth": 0,
              "ticks": ""
             }
            },
            "type": "scattergeo"
           }
          ],
          "scattergl": [
           {
            "marker": {
             "colorbar": {
              "outlinewidth": 0,
              "ticks": ""
             }
            },
            "type": "scattergl"
           }
          ],
          "scattermapbox": [
           {
            "marker": {
             "colorbar": {
              "outlinewidth": 0,
              "ticks": ""
             }
            },
            "type": "scattermapbox"
           }
          ],
          "scatterpolar": [
           {
            "marker": {
             "colorbar": {
              "outlinewidth": 0,
              "ticks": ""
             }
            },
            "type": "scatterpolar"
           }
          ],
          "scatterpolargl": [
           {
            "marker": {
             "colorbar": {
              "outlinewidth": 0,
              "ticks": ""
             }
            },
            "type": "scatterpolargl"
           }
          ],
          "scatterternary": [
           {
            "marker": {
             "colorbar": {
              "outlinewidth": 0,
              "ticks": ""
             }
            },
            "type": "scatterternary"
           }
          ],
          "surface": [
           {
            "colorbar": {
             "outlinewidth": 0,
             "ticks": ""
            },
            "colorscale": [
             [
              0,
              "#0d0887"
             ],
             [
              0.1111111111111111,
              "#46039f"
             ],
             [
              0.2222222222222222,
              "#7201a8"
             ],
             [
              0.3333333333333333,
              "#9c179e"
             ],
             [
              0.4444444444444444,
              "#bd3786"
             ],
             [
              0.5555555555555556,
              "#d8576b"
             ],
             [
              0.6666666666666666,
              "#ed7953"
             ],
             [
              0.7777777777777778,
              "#fb9f3a"
             ],
             [
              0.8888888888888888,
              "#fdca26"
             ],
             [
              1,
              "#f0f921"
             ]
            ],
            "type": "surface"
           }
          ],
          "table": [
           {
            "cells": {
             "fill": {
              "color": "#EBF0F8"
             },
             "line": {
              "color": "white"
             }
            },
            "header": {
             "fill": {
              "color": "#C8D4E3"
             },
             "line": {
              "color": "white"
             }
            },
            "type": "table"
           }
          ]
         },
         "layout": {
          "annotationdefaults": {
           "arrowcolor": "#2a3f5f",
           "arrowhead": 0,
           "arrowwidth": 1
          },
          "autotypenumbers": "strict",
          "coloraxis": {
           "colorbar": {
            "outlinewidth": 0,
            "ticks": ""
           }
          },
          "colorscale": {
           "diverging": [
            [
             0,
             "#8e0152"
            ],
            [
             0.1,
             "#c51b7d"
            ],
            [
             0.2,
             "#de77ae"
            ],
            [
             0.3,
             "#f1b6da"
            ],
            [
             0.4,
             "#fde0ef"
            ],
            [
             0.5,
             "#f7f7f7"
            ],
            [
             0.6,
             "#e6f5d0"
            ],
            [
             0.7,
             "#b8e186"
            ],
            [
             0.8,
             "#7fbc41"
            ],
            [
             0.9,
             "#4d9221"
            ],
            [
             1,
             "#276419"
            ]
           ],
           "sequential": [
            [
             0,
             "#0d0887"
            ],
            [
             0.1111111111111111,
             "#46039f"
            ],
            [
             0.2222222222222222,
             "#7201a8"
            ],
            [
             0.3333333333333333,
             "#9c179e"
            ],
            [
             0.4444444444444444,
             "#bd3786"
            ],
            [
             0.5555555555555556,
             "#d8576b"
            ],
            [
             0.6666666666666666,
             "#ed7953"
            ],
            [
             0.7777777777777778,
             "#fb9f3a"
            ],
            [
             0.8888888888888888,
             "#fdca26"
            ],
            [
             1,
             "#f0f921"
            ]
           ],
           "sequentialminus": [
            [
             0,
             "#0d0887"
            ],
            [
             0.1111111111111111,
             "#46039f"
            ],
            [
             0.2222222222222222,
             "#7201a8"
            ],
            [
             0.3333333333333333,
             "#9c179e"
            ],
            [
             0.4444444444444444,
             "#bd3786"
            ],
            [
             0.5555555555555556,
             "#d8576b"
            ],
            [
             0.6666666666666666,
             "#ed7953"
            ],
            [
             0.7777777777777778,
             "#fb9f3a"
            ],
            [
             0.8888888888888888,
             "#fdca26"
            ],
            [
             1,
             "#f0f921"
            ]
           ]
          },
          "colorway": [
           "#636efa",
           "#EF553B",
           "#00cc96",
           "#ab63fa",
           "#FFA15A",
           "#19d3f3",
           "#FF6692",
           "#B6E880",
           "#FF97FF",
           "#FECB52"
          ],
          "font": {
           "color": "#2a3f5f"
          },
          "geo": {
           "bgcolor": "white",
           "lakecolor": "white",
           "landcolor": "#E5ECF6",
           "showlakes": true,
           "showland": true,
           "subunitcolor": "white"
          },
          "hoverlabel": {
           "align": "left"
          },
          "hovermode": "closest",
          "mapbox": {
           "style": "light"
          },
          "paper_bgcolor": "white",
          "plot_bgcolor": "#E5ECF6",
          "polar": {
           "angularaxis": {
            "gridcolor": "white",
            "linecolor": "white",
            "ticks": ""
           },
           "bgcolor": "#E5ECF6",
           "radialaxis": {
            "gridcolor": "white",
            "linecolor": "white",
            "ticks": ""
           }
          },
          "scene": {
           "xaxis": {
            "backgroundcolor": "#E5ECF6",
            "gridcolor": "white",
            "gridwidth": 2,
            "linecolor": "white",
            "showbackground": true,
            "ticks": "",
            "zerolinecolor": "white"
           },
           "yaxis": {
            "backgroundcolor": "#E5ECF6",
            "gridcolor": "white",
            "gridwidth": 2,
            "linecolor": "white",
            "showbackground": true,
            "ticks": "",
            "zerolinecolor": "white"
           },
           "zaxis": {
            "backgroundcolor": "#E5ECF6",
            "gridcolor": "white",
            "gridwidth": 2,
            "linecolor": "white",
            "showbackground": true,
            "ticks": "",
            "zerolinecolor": "white"
           }
          },
          "shapedefaults": {
           "line": {
            "color": "#2a3f5f"
           }
          },
          "ternary": {
           "aaxis": {
            "gridcolor": "white",
            "linecolor": "white",
            "ticks": ""
           },
           "baxis": {
            "gridcolor": "white",
            "linecolor": "white",
            "ticks": ""
           },
           "bgcolor": "#E5ECF6",
           "caxis": {
            "gridcolor": "white",
            "linecolor": "white",
            "ticks": ""
           }
          },
          "title": {
           "x": 0.05
          },
          "xaxis": {
           "automargin": true,
           "gridcolor": "white",
           "linecolor": "white",
           "ticks": "",
           "title": {
            "standoff": 15
           },
           "zerolinecolor": "white",
           "zerolinewidth": 2
          },
          "yaxis": {
           "automargin": true,
           "gridcolor": "white",
           "linecolor": "white",
           "ticks": "",
           "title": {
            "standoff": 15
           },
           "zerolinecolor": "white",
           "zerolinewidth": 2
          }
         }
        },
        "xaxis": {
         "anchor": "y",
         "domain": [
          0,
          1
         ],
         "title": {
          "text": "clusters"
         }
        },
        "yaxis": {
         "anchor": "x",
         "domain": [
          0,
          1
         ],
         "title": {
          "text": "Accuracy"
         }
        }
       }
      },
      "text/html": [
       "<div>                            <div id=\"0ccb2cd0-12f4-4def-8491-a877700fc42d\" class=\"plotly-graph-div\" style=\"height:525px; width:100%;\"></div>            <script type=\"text/javascript\">                require([\"plotly\"], function(Plotly) {                    window.PLOTLYENV=window.PLOTLYENV || {};                                    if (document.getElementById(\"0ccb2cd0-12f4-4def-8491-a877700fc42d\")) {                    Plotly.newPlot(                        \"0ccb2cd0-12f4-4def-8491-a877700fc42d\",                        [{\"alignmentgroup\":\"True\",\"hovertemplate\":\"clusters=%{x}<br>Accuracy=%{y}<extra></extra>\",\"legendgroup\":\"\",\"marker\":{\"color\":\"#636efa\",\"pattern\":{\"shape\":\"\"}},\"name\":\"\",\"offsetgroup\":\"\",\"orientation\":\"v\",\"showlegend\":false,\"textposition\":\"auto\",\"type\":\"bar\",\"x\":[14,95,61,12,43,80,89,63,81,56,79,37,57,70,22,50,66,78,36,2,5,6,31,33,15,64,71,32,65,47,62,99,91,27,9,76,86,58,77,49,75,74,38,34,19,82,7,18,72,35,13,3,0,55,53,24,10,21,29,26,85,16,48,45,41,98,60,46,28,97,96,51,73,4,54,42,94,87,68,1,44,17,90,84,25,30,92,39,11,69,23,59,40,88,52,20,8,93,83,67],\"xaxis\":\"x\",\"y\":[0.3595505617977528,0.4225352112676056,0.47058823529411764,0.4722222222222222,0.4827586206896552,0.4875,0.4888888888888889,0.5048543689320388,0.5053763440860215,0.5061728395061729,0.5066666666666667,0.5111111111111111,0.5128205128205128,0.5138888888888888,0.5221238938053098,0.5324675324675324,0.5327102803738317,0.5393258426966292,0.5490196078431373,0.5571428571428572,0.5619047619047619,0.5656565656565656,0.5675675675675675,0.5806451612903226,0.5816326530612245,0.5921052631578947,0.6,0.6146788990825688,0.6146788990825688,0.6222222222222222,0.6262626262626263,0.6266666666666667,0.632183908045977,0.6385542168674698,0.64,0.6455696202531646,0.6458333333333334,0.6568627450980392,0.6588235294117647,0.6629213483146067,0.6629213483146067,0.6666666666666666,0.6702127659574468,0.6702127659574468,0.6705882352941176,0.673469387755102,0.6736842105263158,0.6764705882352942,0.6914893617021277,0.7142857142857143,0.7169811320754716,0.7227722772277227,0.7238095238095238,0.728,0.7386363636363636,0.74,0.7419354838709677,0.7464788732394366,0.7555555555555555,0.7555555555555555,0.7582417582417582,0.776595744680851,0.7798165137614679,0.7875,0.7909090909090909,0.8117647058823529,0.8137254901960784,0.8152173913043478,0.8152173913043478,0.8222222222222222,0.8295454545454546,0.8313253012048193,0.8367346938775511,0.8378378378378378,0.839622641509434,0.8409090909090909,0.8433734939759037,0.8674698795180723,0.8809523809523809,0.8888888888888888,0.8936170212765957,0.8952380952380953,0.896551724137931,0.8985507246376812,0.9036144578313253,0.9146341463414634,0.9166666666666666,0.9239130434782609,0.9306930693069307,0.9387755102040817,0.9431818181818182,0.9555555555555556,0.9682539682539683,1.0,1.0,1.0,1.0,1.0,1.0,1.0],\"yaxis\":\"y\"}],                        {\"barmode\":\"relative\",\"legend\":{\"tracegroupgap\":0},\"margin\":{\"t\":60},\"template\":{\"data\":{\"bar\":[{\"error_x\":{\"color\":\"#2a3f5f\"},\"error_y\":{\"color\":\"#2a3f5f\"},\"marker\":{\"line\":{\"color\":\"#E5ECF6\",\"width\":0.5},\"pattern\":{\"fillmode\":\"overlay\",\"size\":10,\"solidity\":0.2}},\"type\":\"bar\"}],\"barpolar\":[{\"marker\":{\"line\":{\"color\":\"#E5ECF6\",\"width\":0.5},\"pattern\":{\"fillmode\":\"overlay\",\"size\":10,\"solidity\":0.2}},\"type\":\"barpolar\"}],\"carpet\":[{\"aaxis\":{\"endlinecolor\":\"#2a3f5f\",\"gridcolor\":\"white\",\"linecolor\":\"white\",\"minorgridcolor\":\"white\",\"startlinecolor\":\"#2a3f5f\"},\"baxis\":{\"endlinecolor\":\"#2a3f5f\",\"gridcolor\":\"white\",\"linecolor\":\"white\",\"minorgridcolor\":\"white\",\"startlinecolor\":\"#2a3f5f\"},\"type\":\"carpet\"}],\"choropleth\":[{\"colorbar\":{\"outlinewidth\":0,\"ticks\":\"\"},\"type\":\"choropleth\"}],\"contour\":[{\"colorbar\":{\"outlinewidth\":0,\"ticks\":\"\"},\"colorscale\":[[0.0,\"#0d0887\"],[0.1111111111111111,\"#46039f\"],[0.2222222222222222,\"#7201a8\"],[0.3333333333333333,\"#9c179e\"],[0.4444444444444444,\"#bd3786\"],[0.5555555555555556,\"#d8576b\"],[0.6666666666666666,\"#ed7953\"],[0.7777777777777778,\"#fb9f3a\"],[0.8888888888888888,\"#fdca26\"],[1.0,\"#f0f921\"]],\"type\":\"contour\"}],\"contourcarpet\":[{\"colorbar\":{\"outlinewidth\":0,\"ticks\":\"\"},\"type\":\"contourcarpet\"}],\"heatmap\":[{\"colorbar\":{\"outlinewidth\":0,\"ticks\":\"\"},\"colorscale\":[[0.0,\"#0d0887\"],[0.1111111111111111,\"#46039f\"],[0.2222222222222222,\"#7201a8\"],[0.3333333333333333,\"#9c179e\"],[0.4444444444444444,\"#bd3786\"],[0.5555555555555556,\"#d8576b\"],[0.6666666666666666,\"#ed7953\"],[0.7777777777777778,\"#fb9f3a\"],[0.8888888888888888,\"#fdca26\"],[1.0,\"#f0f921\"]],\"type\":\"heatmap\"}],\"heatmapgl\":[{\"colorbar\":{\"outlinewidth\":0,\"ticks\":\"\"},\"colorscale\":[[0.0,\"#0d0887\"],[0.1111111111111111,\"#46039f\"],[0.2222222222222222,\"#7201a8\"],[0.3333333333333333,\"#9c179e\"],[0.4444444444444444,\"#bd3786\"],[0.5555555555555556,\"#d8576b\"],[0.6666666666666666,\"#ed7953\"],[0.7777777777777778,\"#fb9f3a\"],[0.8888888888888888,\"#fdca26\"],[1.0,\"#f0f921\"]],\"type\":\"heatmapgl\"}],\"histogram\":[{\"marker\":{\"pattern\":{\"fillmode\":\"overlay\",\"size\":10,\"solidity\":0.2}},\"type\":\"histogram\"}],\"histogram2d\":[{\"colorbar\":{\"outlinewidth\":0,\"ticks\":\"\"},\"colorscale\":[[0.0,\"#0d0887\"],[0.1111111111111111,\"#46039f\"],[0.2222222222222222,\"#7201a8\"],[0.3333333333333333,\"#9c179e\"],[0.4444444444444444,\"#bd3786\"],[0.5555555555555556,\"#d8576b\"],[0.6666666666666666,\"#ed7953\"],[0.7777777777777778,\"#fb9f3a\"],[0.8888888888888888,\"#fdca26\"],[1.0,\"#f0f921\"]],\"type\":\"histogram2d\"}],\"histogram2dcontour\":[{\"colorbar\":{\"outlinewidth\":0,\"ticks\":\"\"},\"colorscale\":[[0.0,\"#0d0887\"],[0.1111111111111111,\"#46039f\"],[0.2222222222222222,\"#7201a8\"],[0.3333333333333333,\"#9c179e\"],[0.4444444444444444,\"#bd3786\"],[0.5555555555555556,\"#d8576b\"],[0.6666666666666666,\"#ed7953\"],[0.7777777777777778,\"#fb9f3a\"],[0.8888888888888888,\"#fdca26\"],[1.0,\"#f0f921\"]],\"type\":\"histogram2dcontour\"}],\"mesh3d\":[{\"colorbar\":{\"outlinewidth\":0,\"ticks\":\"\"},\"type\":\"mesh3d\"}],\"parcoords\":[{\"line\":{\"colorbar\":{\"outlinewidth\":0,\"ticks\":\"\"}},\"type\":\"parcoords\"}],\"pie\":[{\"automargin\":true,\"type\":\"pie\"}],\"scatter\":[{\"marker\":{\"colorbar\":{\"outlinewidth\":0,\"ticks\":\"\"}},\"type\":\"scatter\"}],\"scatter3d\":[{\"line\":{\"colorbar\":{\"outlinewidth\":0,\"ticks\":\"\"}},\"marker\":{\"colorbar\":{\"outlinewidth\":0,\"ticks\":\"\"}},\"type\":\"scatter3d\"}],\"scattercarpet\":[{\"marker\":{\"colorbar\":{\"outlinewidth\":0,\"ticks\":\"\"}},\"type\":\"scattercarpet\"}],\"scattergeo\":[{\"marker\":{\"colorbar\":{\"outlinewidth\":0,\"ticks\":\"\"}},\"type\":\"scattergeo\"}],\"scattergl\":[{\"marker\":{\"colorbar\":{\"outlinewidth\":0,\"ticks\":\"\"}},\"type\":\"scattergl\"}],\"scattermapbox\":[{\"marker\":{\"colorbar\":{\"outlinewidth\":0,\"ticks\":\"\"}},\"type\":\"scattermapbox\"}],\"scatterpolar\":[{\"marker\":{\"colorbar\":{\"outlinewidth\":0,\"ticks\":\"\"}},\"type\":\"scatterpolar\"}],\"scatterpolargl\":[{\"marker\":{\"colorbar\":{\"outlinewidth\":0,\"ticks\":\"\"}},\"type\":\"scatterpolargl\"}],\"scatterternary\":[{\"marker\":{\"colorbar\":{\"outlinewidth\":0,\"ticks\":\"\"}},\"type\":\"scatterternary\"}],\"surface\":[{\"colorbar\":{\"outlinewidth\":0,\"ticks\":\"\"},\"colorscale\":[[0.0,\"#0d0887\"],[0.1111111111111111,\"#46039f\"],[0.2222222222222222,\"#7201a8\"],[0.3333333333333333,\"#9c179e\"],[0.4444444444444444,\"#bd3786\"],[0.5555555555555556,\"#d8576b\"],[0.6666666666666666,\"#ed7953\"],[0.7777777777777778,\"#fb9f3a\"],[0.8888888888888888,\"#fdca26\"],[1.0,\"#f0f921\"]],\"type\":\"surface\"}],\"table\":[{\"cells\":{\"fill\":{\"color\":\"#EBF0F8\"},\"line\":{\"color\":\"white\"}},\"header\":{\"fill\":{\"color\":\"#C8D4E3\"},\"line\":{\"color\":\"white\"}},\"type\":\"table\"}]},\"layout\":{\"annotationdefaults\":{\"arrowcolor\":\"#2a3f5f\",\"arrowhead\":0,\"arrowwidth\":1},\"autotypenumbers\":\"strict\",\"coloraxis\":{\"colorbar\":{\"outlinewidth\":0,\"ticks\":\"\"}},\"colorscale\":{\"diverging\":[[0,\"#8e0152\"],[0.1,\"#c51b7d\"],[0.2,\"#de77ae\"],[0.3,\"#f1b6da\"],[0.4,\"#fde0ef\"],[0.5,\"#f7f7f7\"],[0.6,\"#e6f5d0\"],[0.7,\"#b8e186\"],[0.8,\"#7fbc41\"],[0.9,\"#4d9221\"],[1,\"#276419\"]],\"sequential\":[[0.0,\"#0d0887\"],[0.1111111111111111,\"#46039f\"],[0.2222222222222222,\"#7201a8\"],[0.3333333333333333,\"#9c179e\"],[0.4444444444444444,\"#bd3786\"],[0.5555555555555556,\"#d8576b\"],[0.6666666666666666,\"#ed7953\"],[0.7777777777777778,\"#fb9f3a\"],[0.8888888888888888,\"#fdca26\"],[1.0,\"#f0f921\"]],\"sequentialminus\":[[0.0,\"#0d0887\"],[0.1111111111111111,\"#46039f\"],[0.2222222222222222,\"#7201a8\"],[0.3333333333333333,\"#9c179e\"],[0.4444444444444444,\"#bd3786\"],[0.5555555555555556,\"#d8576b\"],[0.6666666666666666,\"#ed7953\"],[0.7777777777777778,\"#fb9f3a\"],[0.8888888888888888,\"#fdca26\"],[1.0,\"#f0f921\"]]},\"colorway\":[\"#636efa\",\"#EF553B\",\"#00cc96\",\"#ab63fa\",\"#FFA15A\",\"#19d3f3\",\"#FF6692\",\"#B6E880\",\"#FF97FF\",\"#FECB52\"],\"font\":{\"color\":\"#2a3f5f\"},\"geo\":{\"bgcolor\":\"white\",\"lakecolor\":\"white\",\"landcolor\":\"#E5ECF6\",\"showlakes\":true,\"showland\":true,\"subunitcolor\":\"white\"},\"hoverlabel\":{\"align\":\"left\"},\"hovermode\":\"closest\",\"mapbox\":{\"style\":\"light\"},\"paper_bgcolor\":\"white\",\"plot_bgcolor\":\"#E5ECF6\",\"polar\":{\"angularaxis\":{\"gridcolor\":\"white\",\"linecolor\":\"white\",\"ticks\":\"\"},\"bgcolor\":\"#E5ECF6\",\"radialaxis\":{\"gridcolor\":\"white\",\"linecolor\":\"white\",\"ticks\":\"\"}},\"scene\":{\"xaxis\":{\"backgroundcolor\":\"#E5ECF6\",\"gridcolor\":\"white\",\"gridwidth\":2,\"linecolor\":\"white\",\"showbackground\":true,\"ticks\":\"\",\"zerolinecolor\":\"white\"},\"yaxis\":{\"backgroundcolor\":\"#E5ECF6\",\"gridcolor\":\"white\",\"gridwidth\":2,\"linecolor\":\"white\",\"showbackground\":true,\"ticks\":\"\",\"zerolinecolor\":\"white\"},\"zaxis\":{\"backgroundcolor\":\"#E5ECF6\",\"gridcolor\":\"white\",\"gridwidth\":2,\"linecolor\":\"white\",\"showbackground\":true,\"ticks\":\"\",\"zerolinecolor\":\"white\"}},\"shapedefaults\":{\"line\":{\"color\":\"#2a3f5f\"}},\"ternary\":{\"aaxis\":{\"gridcolor\":\"white\",\"linecolor\":\"white\",\"ticks\":\"\"},\"baxis\":{\"gridcolor\":\"white\",\"linecolor\":\"white\",\"ticks\":\"\"},\"bgcolor\":\"#E5ECF6\",\"caxis\":{\"gridcolor\":\"white\",\"linecolor\":\"white\",\"ticks\":\"\"}},\"title\":{\"x\":0.05},\"xaxis\":{\"automargin\":true,\"gridcolor\":\"white\",\"linecolor\":\"white\",\"ticks\":\"\",\"title\":{\"standoff\":15},\"zerolinecolor\":\"white\",\"zerolinewidth\":2},\"yaxis\":{\"automargin\":true,\"gridcolor\":\"white\",\"linecolor\":\"white\",\"ticks\":\"\",\"title\":{\"standoff\":15},\"zerolinecolor\":\"white\",\"zerolinewidth\":2}}},\"xaxis\":{\"anchor\":\"y\",\"domain\":[0.0,1.0],\"title\":{\"text\":\"clusters\"}},\"yaxis\":{\"anchor\":\"x\",\"domain\":[0.0,1.0],\"title\":{\"text\":\"Accuracy\"}}},                        {\"responsive\": true}                    ).then(function(){\n",
       "                            \n",
       "var gd = document.getElementById('0ccb2cd0-12f4-4def-8491-a877700fc42d');\n",
       "var x = new MutationObserver(function (mutations, observer) {{\n",
       "        var display = window.getComputedStyle(gd).display;\n",
       "        if (!display || display === 'none') {{\n",
       "            console.log([gd, 'removed!']);\n",
       "            Plotly.purge(gd);\n",
       "            observer.disconnect();\n",
       "        }}\n",
       "}});\n",
       "\n",
       "// Listen for the removal of the full notebook cells\n",
       "var notebookContainer = gd.closest('#notebook-container');\n",
       "if (notebookContainer) {{\n",
       "    x.observe(notebookContainer, {childList: true});\n",
       "}}\n",
       "\n",
       "// Listen for the clearing of the current output cell\n",
       "var outputEl = gd.closest('.output');\n",
       "if (outputEl) {{\n",
       "    x.observe(outputEl, {childList: true});\n",
       "}}\n",
       "\n",
       "                        })                };                });            </script>        </div>"
      ]
     },
     "metadata": {},
     "output_type": "display_data"
    },
    {
     "name": "stdout",
     "output_type": "stream",
     "text": [
      "100\n"
     ]
    }
   ],
   "source": [
    "import plotly.express as px\n",
    "df_plot = pp1.groupby('clusters').head(1)\n",
    "fig = px.bar(df_plot, x=\"clusters\", y=\"Accuracy\")\n",
    "fig.show()\n",
    "print(len(pp1['clusters'].unique()))"
   ]
  },
  {
   "cell_type": "code",
   "execution_count": 30,
   "metadata": {},
   "outputs": [
    {
     "name": "stderr",
     "output_type": "stream",
     "text": [
      "/Users/dimitrisglenis/anaconda3/lib/python3.8/site-packages/pandas/util/_decorators.py:311: SettingWithCopyWarning:\n",
      "\n",
      "\n",
      "A value is trying to be set on a copy of a slice from a DataFrame\n",
      "\n",
      "See the caveats in the documentation: https://pandas.pydata.org/pandas-docs/stable/user_guide/indexing.html#returning-a-view-versus-a-copy\n",
      "\n"
     ]
    }
   ],
   "source": [
    "df_plot.sort_values(by=['Accuracy'], ascending=False, inplace=True)\n",
    "cond = df_plot['Accuracy'] >= 1.\n",
    "res = df_plot[cond]"
   ]
  },
  {
   "cell_type": "code",
   "execution_count": 31,
   "metadata": {},
   "outputs": [
    {
     "name": "stdout",
     "output_type": "stream",
     "text": [
      "435\n"
     ]
    }
   ],
   "source": [
    "print(res['n_matches'].sum())"
   ]
  },
  {
   "cell_type": "code",
   "execution_count": 24,
   "metadata": {},
   "outputs": [
    {
     "data": {
      "text/html": [
       "<div>\n",
       "<style scoped>\n",
       "    .dataframe tbody tr th:only-of-type {\n",
       "        vertical-align: middle;\n",
       "    }\n",
       "\n",
       "    .dataframe tbody tr th {\n",
       "        vertical-align: top;\n",
       "    }\n",
       "\n",
       "    .dataframe thead th {\n",
       "        text-align: right;\n",
       "    }\n",
       "</style>\n",
       "<table border=\"1\" class=\"dataframe\">\n",
       "  <thead>\n",
       "    <tr style=\"text-align: right;\">\n",
       "      <th></th>\n",
       "      <th>TEAM_Home</th>\n",
       "      <th>TEAM_Away</th>\n",
       "      <th>DATE_Home</th>\n",
       "      <th>keras_pred</th>\n",
       "      <th>keras_proba</th>\n",
       "      <th>W/L_Home</th>\n",
       "      <th>clusters</th>\n",
       "      <th>Accuracy</th>\n",
       "      <th>n_matches</th>\n",
       "    </tr>\n",
       "  </thead>\n",
       "  <tbody>\n",
       "    <tr>\n",
       "      <th>8209</th>\n",
       "      <td>DET</td>\n",
       "      <td>MIA</td>\n",
       "      <td>03/23/2012</td>\n",
       "      <td>L</td>\n",
       "      <td>0.025520</td>\n",
       "      <td>L</td>\n",
       "      <td>86</td>\n",
       "      <td>1.0</td>\n",
       "      <td>52</td>\n",
       "    </tr>\n",
       "    <tr>\n",
       "      <th>5379</th>\n",
       "      <td>PHI</td>\n",
       "      <td>MIL</td>\n",
       "      <td>02/24/2014</td>\n",
       "      <td>L</td>\n",
       "      <td>0.015507</td>\n",
       "      <td>L</td>\n",
       "      <td>85</td>\n",
       "      <td>1.0</td>\n",
       "      <td>50</td>\n",
       "    </tr>\n",
       "    <tr>\n",
       "      <th>5091</th>\n",
       "      <td>LAC</td>\n",
       "      <td>POR</td>\n",
       "      <td>02/22/2009</td>\n",
       "      <td>L</td>\n",
       "      <td>0.017397</td>\n",
       "      <td>L</td>\n",
       "      <td>47</td>\n",
       "      <td>1.0</td>\n",
       "      <td>57</td>\n",
       "    </tr>\n",
       "    <tr>\n",
       "      <th>5093</th>\n",
       "      <td>DET</td>\n",
       "      <td>CLE</td>\n",
       "      <td>02/22/2009</td>\n",
       "      <td>L</td>\n",
       "      <td>0.003737</td>\n",
       "      <td>L</td>\n",
       "      <td>95</td>\n",
       "      <td>1.0</td>\n",
       "      <td>35</td>\n",
       "    </tr>\n",
       "    <tr>\n",
       "      <th>5112</th>\n",
       "      <td>ATL</td>\n",
       "      <td>LAL</td>\n",
       "      <td>02/22/2011</td>\n",
       "      <td>L</td>\n",
       "      <td>0.045179</td>\n",
       "      <td>L</td>\n",
       "      <td>27</td>\n",
       "      <td>1.0</td>\n",
       "      <td>81</td>\n",
       "    </tr>\n",
       "    <tr>\n",
       "      <th>13983</th>\n",
       "      <td>WAS</td>\n",
       "      <td>TOR</td>\n",
       "      <td>12/01/2010</td>\n",
       "      <td>L</td>\n",
       "      <td>0.029883</td>\n",
       "      <td>L</td>\n",
       "      <td>21</td>\n",
       "      <td>1.0</td>\n",
       "      <td>70</td>\n",
       "    </tr>\n",
       "    <tr>\n",
       "      <th>14118</th>\n",
       "      <td>NYK</td>\n",
       "      <td>CLE</td>\n",
       "      <td>12/03/2008</td>\n",
       "      <td>L</td>\n",
       "      <td>0.009567</td>\n",
       "      <td>L</td>\n",
       "      <td>9</td>\n",
       "      <td>1.0</td>\n",
       "      <td>35</td>\n",
       "    </tr>\n",
       "  </tbody>\n",
       "</table>\n",
       "</div>"
      ],
      "text/plain": [
       "      TEAM_Home TEAM_Away   DATE_Home keras_pred  keras_proba W/L_Home  \\\n",
       "8209        DET       MIA  03/23/2012          L     0.025520        L   \n",
       "5379        PHI       MIL  02/24/2014          L     0.015507        L   \n",
       "5091        LAC       POR  02/22/2009          L     0.017397        L   \n",
       "5093        DET       CLE  02/22/2009          L     0.003737        L   \n",
       "5112        ATL       LAL  02/22/2011          L     0.045179        L   \n",
       "13983       WAS       TOR  12/01/2010          L     0.029883        L   \n",
       "14118       NYK       CLE  12/03/2008          L     0.009567        L   \n",
       "\n",
       "       clusters  Accuracy  n_matches  \n",
       "8209         86       1.0         52  \n",
       "5379         85       1.0         50  \n",
       "5091         47       1.0         57  \n",
       "5093         95       1.0         35  \n",
       "5112         27       1.0         81  \n",
       "13983        21       1.0         70  \n",
       "14118         9       1.0         35  "
      ]
     },
     "metadata": {},
     "output_type": "display_data"
    },
    {
     "name": "stdout",
     "output_type": "stream",
     "text": [
      "[86 85 47 95 27 21  9]\n"
     ]
    }
   ],
   "source": [
    "display(res)\n",
    "print(res['clusters'].unique())\n"
   ]
  },
  {
   "cell_type": "markdown",
   "metadata": {},
   "source": [
    "# Save the models\n"
   ]
  },
  {
   "cell_type": "code",
   "execution_count": 25,
   "metadata": {},
   "outputs": [],
   "source": [
    "save = True\n",
    "if save:\n",
    "    \n",
    "    # keras model\n",
    "   \n",
    "    model.save('keras_model_new.h5')\n",
    "\n",
    "    # scaler\n",
    "    name_scaler = 'keras_scaler_new'\n",
    "    Tools.save_pickle(scaler, name_scaler)\n",
    "\n",
    "\n",
    "    # clusterer\n",
    "    name_clusterer = 'keras_clusterer_new'\n",
    "    Tools.save_pickle(kmeans, name_clusterer)\n"
   ]
  },
  {
   "cell_type": "code",
   "execution_count": null,
   "metadata": {},
   "outputs": [],
   "source": []
  }
 ],
 "metadata": {
  "kernelspec": {
   "display_name": "Python 3",
   "language": "python",
   "name": "python3"
  },
  "language_info": {
   "codemirror_mode": {
    "name": "ipython",
    "version": 3
   },
   "file_extension": ".py",
   "mimetype": "text/x-python",
   "name": "python",
   "nbconvert_exporter": "python",
   "pygments_lexer": "ipython3",
   "version": "3.8.5"
  }
 },
 "nbformat": 4,
 "nbformat_minor": 4
}
