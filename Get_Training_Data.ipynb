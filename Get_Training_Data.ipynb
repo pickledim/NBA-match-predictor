{
 "cells": [
  {
   "cell_type": "markdown",
   "metadata": {},
   "source": [
    "# Get Training Data for the ML models\n",
    "\n",
    "## Import libs"
   ]
  },
  {
   "cell_type": "code",
   "execution_count": 1,
   "metadata": {},
   "outputs": [],
   "source": [
    "import os\n",
    "import warnings\n",
    "warnings.filterwarnings('ignore')\n",
    "\n",
    "from src import algorithms"
   ]
  },
  {
   "cell_type": "markdown",
   "metadata": {},
   "source": [
    "## Data Pipeline\n",
    "\n",
    "The scrapping begins from Season 2015-16 since then the tactics of NBA changed and focused on 3PTS (season when GSW introduced data analytics and won the championship). For the Data Engineering check the script algorithms."
   ]
  },
  {
   "cell_type": "code",
   "execution_count": 2,
   "metadata": {},
   "outputs": [
    {
     "name": "stdout",
     "output_type": "stream",
     "text": [
      "Getting data from Season: 2015-16\n",
      "Fetching Data\n",
      "Done\n",
      "Getting data from Season: 2016-17\n",
      "Fetching Data\n",
      "Done\n",
      "Getting data from Season: 2017-18\n",
      "Fetching Data\n",
      "Done\n",
      "Getting data from Season: 2018-19\n",
      "Fetching Data\n",
      "Done\n",
      "Getting data from Season: 2019-20\n",
      "Fetching Data\n",
      "Done\n",
      "Getting data from Season: 2020-21\n",
      "Fetching Data\n",
      "Done\n"
     ]
    }
   ],
   "source": [
    "data = algorithms.get_data_from_2015()\n",
    "data = algorithms.pre_process_cols(data)\n",
    "data = algorithms.hollinger_formula(data)\n",
    "data = algorithms.concat_home_away_stats(data)\n",
    "data = algorithms.get_dummies(data)\n",
    "data = algorithms.feature_eng(data)\n",
    "data = algorithms.clean_data(data)"
   ]
  },
  {
   "cell_type": "markdown",
   "metadata": {},
   "source": [
    "## Save the data"
   ]
  },
  {
   "cell_type": "code",
   "execution_count": 4,
   "metadata": {},
   "outputs": [
    {
     "name": "stdout",
     "output_type": "stream",
     "text": [
      "created folder :  /Users/dimitrisglenis/Documents/NBA_predict_matches/NBA-mathc-predictor/Training_data\n"
     ]
    }
   ],
   "source": [
    "output = os.path.join(os.getcwd(),'Training_data', 'training_data_first_half_2015_2021.csv')\n",
    "algorithms.check_dir(output)\n",
    "\n",
    "data.to_csv(output)"
   ]
  }
 ],
 "metadata": {
  "kernelspec": {
   "display_name": "Python 3",
   "language": "python",
   "name": "python3"
  },
  "language_info": {
   "codemirror_mode": {
    "name": "ipython",
    "version": 3
   },
   "file_extension": ".py",
   "mimetype": "text/x-python",
   "name": "python",
   "nbconvert_exporter": "python",
   "pygments_lexer": "ipython3",
   "version": "3.8.5"
  }
 },
 "nbformat": 4,
 "nbformat_minor": 4
}
